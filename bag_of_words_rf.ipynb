{
 "cells": [
  {
   "cell_type": "code",
   "execution_count": 43,
   "metadata": {
    "collapsed": false
   },
   "outputs": [],
   "source": [
    "# Imports\n",
    "import pandas as pd\n",
    "from bs4 import BeautifulSoup\n",
    "from nltk.corpus import stopwords\n",
    "from nltk.stem.snowball import SnowballStemmer\n",
    "from nltk.stem import WordNetLemmatizer\n",
    "import re\n",
    "from sklearn.feature_extraction.text import CountVectorizer"
   ]
  },
  {
   "cell_type": "code",
   "execution_count": 3,
   "metadata": {
    "collapsed": false
   },
   "outputs": [],
   "source": [
    "train = pd.read_csv(\"data/labeledTrainData.tsv\", header=0, delimiter=\"\\t\", quoting=3)"
   ]
  },
  {
   "cell_type": "code",
   "execution_count": 9,
   "metadata": {
    "collapsed": false
   },
   "outputs": [
    {
     "name": "stdout",
     "output_type": "stream",
     "text": [
      "\"The film starts with a manager (Nicholas Bell) giving welcome investors (Robert Carradine) to Primal Park . A secret project mutating a primal animal using fossilized DNA, like ¨Jurassik Park¨, and some scientists resurrect one of nature's most fearsome predators, the Sabretooth tiger or Smilodon . Scientific ambition turns deadly, however, and when the high voltage fence is opened the creature escape and begins savagely stalking its prey - the human visitors , tourists and scientific.Meanwhile some youngsters enter in the restricted area of the security center and are attacked by a pack of large pre-historical animals which are deadlier and bigger . In addition , a security agent (Stacy Haiduk) and her mate (Brian Wimmer) fight hardly against the carnivorous Smilodons. The Sabretooths, themselves , of course, are the real star stars and they are astounding terrifyingly though not convincing. The giant animals savagely are stalking its prey and the group run afoul and fight against one nature's most fearsome predators. Furthermore a third Sabretooth more dangerous and slow stalks its victims.<br /><br />The movie delivers the goods with lots of blood and gore as beheading, hair-raising chills,full of scares when the Sabretooths appear with mediocre special effects.The story provides exciting and stirring entertainment but it results to be quite boring .The giant animals are majority made by computer generator and seem totally lousy .Middling performances though the players reacting appropriately to becoming food.Actors give vigorously physical performances dodging the beasts ,running,bound and leaps or dangling over walls . And it packs a ridiculous final deadly scene. No for small kids by realistic,gory and violent attack scenes . Other films about Sabretooths or Smilodon are the following : ¨Sabretooth(2002)¨by James R Hickox with Vanessa Angel, David Keith and John Rhys Davies and the much better ¨10.000 BC(2006)¨ by Roland Emmerich with with Steven Strait, Cliff Curtis and Camilla Belle. This motion picture filled with bloody moments is badly directed by George Miller and with no originality because takes too many elements from previous films. Miller is an Australian director usually working for television (Tidal wave, Journey to the center of the earth, and many others) and occasionally for cinema ( The man from Snowy river, Zeus and Roxanne,Robinson Crusoe ). Rating : Below average, bottom of barrel.\"\n"
     ]
    }
   ],
   "source": [
    "# Sample Review\n",
    "print train['review'][2]"
   ]
  },
  {
   "cell_type": "code",
   "execution_count": 41,
   "metadata": {
    "collapsed": true
   },
   "outputs": [],
   "source": [
    "# Preprocessing\n",
    "def clean_review (review):\n",
    "    review_text = BeautifulSoup(review).get_text()\n",
    "    letters_only = re.sub(\"[^a-zA-Z]\", \" \", review_text)\n",
    "    words = letters_only.lower().split()\n",
    "    stop_words = set(stopwords.words(\"english\"))\n",
    "    filtered_words = [w for w in words if not w in stop_words]\n",
    "    # Lemmatizing\n",
    "    wordnet_lemmatizer = WordNetLemmatizer()\n",
    "    word_list = [wordnet_lemmatizer.lemmatize(w) for w in filtered_words]\n",
    "    \n",
    "    return (\" \".join(word_list))\n",
    "    "
   ]
  },
  {
   "cell_type": "code",
   "execution_count": 42,
   "metadata": {
    "collapsed": false
   },
   "outputs": [
    {
     "name": "stdout",
     "output_type": "stream",
     "text": [
      "100\n",
      "200\n",
      "300\n",
      "400\n",
      "500\n",
      "600\n",
      "700\n",
      "800\n",
      "900\n",
      "1000\n",
      "1100\n",
      "1200\n",
      "1300\n",
      "1400\n",
      "1500\n",
      "1600\n",
      "1700\n",
      "1800\n",
      "1900\n",
      "2000\n",
      "2100\n",
      "2200\n",
      "2300\n",
      "2400\n",
      "2500\n",
      "2600\n",
      "2700\n",
      "2800\n",
      "2900\n",
      "3000\n",
      "3100\n",
      "3200\n",
      "3300\n",
      "3400\n",
      "3500\n",
      "3600\n",
      "3700\n",
      "3800\n",
      "3900\n",
      "4000\n",
      "4100\n",
      "4200\n",
      "4300\n",
      "4400\n",
      "4500\n",
      "4600\n",
      "4700\n",
      "4800\n",
      "4900\n",
      "5000\n",
      "5100\n",
      "5200\n",
      "5300\n",
      "5400\n",
      "5500\n",
      "5600\n",
      "5700\n",
      "5800\n",
      "5900\n",
      "6000\n",
      "6100\n",
      "6200\n",
      "6300\n",
      "6400\n",
      "6500\n",
      "6600\n",
      "6700\n",
      "6800\n",
      "6900\n",
      "7000\n",
      "7100\n",
      "7200\n",
      "7300\n",
      "7400\n",
      "7500\n",
      "7600\n",
      "7700\n",
      "7800\n",
      "7900\n",
      "8000\n",
      "8100\n",
      "8200\n",
      "8300\n",
      "8400\n",
      "8500\n",
      "8600\n",
      "8700\n",
      "8800\n",
      "8900\n",
      "9000\n",
      "9100\n",
      "9200\n",
      "9300\n",
      "9400\n",
      "9500\n",
      "9600\n",
      "9700\n",
      "9800\n",
      "9900\n",
      "10000\n",
      "10100\n",
      "10200\n",
      "10300\n",
      "10400\n",
      "10500\n",
      "10600\n",
      "10700\n",
      "10800\n",
      "10900\n",
      "11000\n",
      "11100\n",
      "11200\n",
      "11300\n",
      "11400\n",
      "11500\n",
      "11600\n",
      "11700\n",
      "11800\n",
      "11900\n",
      "12000\n",
      "12100\n",
      "12200\n",
      "12300\n",
      "12400\n",
      "12500\n",
      "12600\n",
      "12700\n",
      "12800\n",
      "12900\n",
      "13000\n",
      "13100\n",
      "13200\n",
      "13300\n",
      "13400\n",
      "13500\n",
      "13600\n",
      "13700\n",
      "13800\n",
      "13900\n",
      "14000\n",
      "14100\n",
      "14200\n",
      "14300\n",
      "14400\n",
      "14500\n",
      "14600\n",
      "14700\n",
      "14800\n",
      "14900\n",
      "15000\n",
      "15100\n",
      "15200\n",
      "15300\n",
      "15400\n",
      "15500\n",
      "15600\n",
      "15700\n",
      "15800\n",
      "15900\n",
      "16000\n",
      "16100\n",
      "16200\n",
      "16300\n",
      "16400\n",
      "16500\n",
      "16600\n",
      "16700\n",
      "16800\n",
      "16900\n",
      "17000\n",
      "17100\n",
      "17200\n",
      "17300\n",
      "17400\n",
      "17500\n",
      "17600\n",
      "17700\n",
      "17800\n",
      "17900\n",
      "18000\n",
      "18100\n",
      "18200\n",
      "18300\n",
      "18400\n",
      "18500\n",
      "18600\n",
      "18700\n",
      "18800\n",
      "18900\n",
      "19000\n",
      "19100\n",
      "19200\n",
      "19300\n",
      "19400\n",
      "19500\n",
      "19600\n",
      "19700\n",
      "19800\n",
      "19900\n",
      "20000\n",
      "20100\n",
      "20200\n",
      "20300\n",
      "20400\n",
      "20500\n",
      "20600\n",
      "20700\n",
      "20800\n",
      "20900\n",
      "21000\n",
      "21100\n",
      "21200\n",
      "21300\n",
      "21400\n",
      "21500\n",
      "21600\n",
      "21700\n",
      "21800\n",
      "21900\n",
      "22000\n",
      "22100\n",
      "22200\n",
      "22300\n",
      "22400\n",
      "22500\n",
      "22600\n",
      "22700\n",
      "22800\n",
      "22900\n",
      "23000\n",
      "23100\n",
      "23200\n",
      "23300\n",
      "23400\n",
      "23500\n",
      "23600\n",
      "23700\n",
      "23800\n",
      "23900\n",
      "24000\n",
      "24100\n",
      "24200\n",
      "24300\n",
      "24400\n",
      "24500\n",
      "24600\n",
      "24700\n",
      "24800\n",
      "24900\n",
      "25000\n"
     ]
    }
   ],
   "source": [
    "num_reviews = train['review'].size\n",
    "clean_reviews = []\n",
    "for i in xrange(0, num_reviews):\n",
    "    if ((i+1)%100 == 0):\n",
    "        print i+1\n",
    "    clean_reviews.append(clean_review(train['review'][i]))"
   ]
  },
  {
   "cell_type": "code",
   "execution_count": 45,
   "metadata": {
    "collapsed": true
   },
   "outputs": [],
   "source": [
    "# Creating Bag of Words Model\n",
    "vectorizer = CountVectorizer(analyzer = \"word\",\n",
    "                            tokenizer = None,\n",
    "                            preprocessor = None,\n",
    "                            stop_words = None,\n",
    "                            max_features = 5000)\n",
    "train_data_features = vectorizer.fit_transform(clean_reviews).toarray()"
   ]
  },
  {
   "cell_type": "code",
   "execution_count": 48,
   "metadata": {
    "collapsed": false
   },
   "outputs": [
    {
     "data": {
      "text/plain": [
       "(25000, 5000)"
      ]
     },
     "execution_count": 48,
     "metadata": {},
     "output_type": "execute_result"
    }
   ],
   "source": [
    "# One feature for each vocab word\n",
    "train_data_features.shape"
   ]
  },
  {
   "cell_type": "code",
   "execution_count": 50,
   "metadata": {
    "collapsed": false
   },
   "outputs": [
    {
     "name": "stdout",
     "output_type": "stream",
     "text": [
      "[u'abandoned', u'abc', u'ability', u'able', u'abraham', u'abrupt', u'absence', u'absent', u'absolute', u'absolutely', u'absurd', u'absurdity', u'abuse', u'abused', u'abusive', u'abysmal', u'academy', u'accent', u'accept', u'acceptable', u'accepted', u'accepts', u'access', u'accident', u'accidentally', u'acclaimed', u'accompanied', u'accomplish', u'accomplished', u'according', u'account', u'accuracy', u'accurate', u'accused', u'ace', u'achieve', u'achieved', u'achievement', u'acid', u'across', u'act', u'acted', u'acting', u'action', u'active', u'activity', u'actor', u'actress', u'actual', u'actually', u'ad', u'adam', u'adaptation', u'adapted', u'add', u'added', u'addict', u'addicted', u'addiction', u'adding', u'addition', u'additional', u'address', u'adequate', u'admirable', u'admire', u'admit', u'admittedly', u'adolescent', u'adopted', u'adorable', u'adult', u'advance', u'advanced', u'advantage', u'adventure', u'advertising', u'advice', u'advise', u'affair', u'affect', u'affected', u'affection', u'afford', u'aforementioned', u'afraid', u'africa', u'african', u'afternoon', u'afterwards', u'age', u'aged', u'agency', u'agenda', u'agent', u'aging', u'ago', u'agree', u'agreed', u'agrees', u'ah', u'ahead', u'aid', u'aim', u'aimed', u'air', u'aired', u'airplane', u'airport', u'aka', u'akshay', u'al', u'ala', u'alan', u'albeit', u'albert', u'album', u'alcohol', u'alcoholic', u'alec', u'alert', u'alex', u'alexander', u'alfred', u'alice', u'alicia', u'alien', u'alike', u'alison', u'alive', u'allen', u'alley', u'allow', u'allowed', u'allowing', u'allows', u'ally', u'almost', u'alone', u'along', u'alongside', u'already', u'alright', u'also', u'alternate', u'alternative', u'although', u'altman', u'altogether', u'always', u'amanda', u'amateur', u'amateurish', u'amazed', u'amazing', u'amazingly', u'amazon', u'ambiguous', u'ambition', u'ambitious', u'america', u'american', u'amitabh', u'among', u'amongst', u'amount', u'amused', u'amusement', u'amusing', u'amy', u'analysis', u'ancient', u'anderson', u'andre', u'andrew', u'andy', u'angel', u'angela', u'angeles', u'anger', u'angle', u'angry', u'animal', u'animated', u'animation', u'animator', u'anime', u'ann', u'anna', u'anne', u'annie', u'annoyed', u'annoying', u'another', u'answer', u'ant', u'anthony', u'anti', u'antic', u'anticipation', u'antonioni', u'antwone', u'anybody', u'anymore', u'anyone', u'anything', u'anyway', u'anyways', u'anywhere', u'apart', u'apartment', u'ape', u'appalling', u'apparent', u'apparently', u'appeal', u'appealing', u'appear', u'appearance', u'appeared', u'appearing', u'appears', u'appreciate', u'appreciated', u'appreciation', u'approach', u'appropriate', u'appropriately', u'april', u'arab', u'arc', u'area', u'arguably', u'argue', u'argument', u'arm', u'armed', u'army', u'arnold', u'around', u'arrested', u'arrival', u'arrive', u'arrived', u'arrives', u'arrogant', u'arrow', u'art', u'arthur', u'artificial', u'artist', u'artistic', u'artsy', u'as', u'ashamed', u'ashley', u'asian', u'aside', u'ask', u'asked', u'asking', u'asks', u'asleep', u'aspect', u'aspiring', u'assassin', u'assault', u'assigned', u'assistant', u'associate', u'associated', u'assume', u'assumed', u'astaire', u'astonishing', u'asylum', u'atlantis', u'atmosphere', u'atmospheric', u'atrocious', u'atrocity', u'attached', u'attack', u'attacked', u'attempt', u'attempted', u'attempting', u'attenborough', u'attend', u'attention', u'attitude', u'attorney', u'attracted', u'attraction', u'attractive', u'audience', u'audio', u'audition', u'aunt', u'austen', u'austin', u'australia', u'australian', u'authentic', u'author', u'authority', u'automatically', u'available', u'average', u'avoid', u'avoided', u'awake', u'award', u'aware', u'away', u'awe', u'awesome', u'awful', u'awfully', u'awhile', u'awkward', u'babe', u'baby', u'bacall', u'back', u'backdrop', u'background', u'bacon', u'bad', u'baddie', u'badly', u'bag', u'baker', u'bakshi', u'balance', u'baldwin', u'ball', u'ballet', u'band', u'bang', u'bank', u'banned', u'bar', u'barbara', u'bare', u'barely', u'bargain', u'barrel', u'barry', u'barrymore', u'base', u'baseball', u'based', u'basement', u'basic', u'basically', u'basinger', u'basis', u'basketball', u'bat', u'bath', u'bathroom', u'batman', u'battle', u'bay', u'bbc', u'beach', u'bear', u'beast', u'beat', u'beaten', u'beating', u'beatles', u'beatty', u'beautiful', u'beautifully', u'beauty', u'became', u'become', u'becomes', u'becoming', u'bed', u'bedroom', u'beer', u'began', u'begin', u'beginning', u'behave', u'behavior', u'behaviour', u'behind', u'being', u'bela', u'belief', u'believable', u'believe', u'believed', u'believing', u'bell', u'belong', u'belongs', u'beloved', u'belt', u'belushi', u'ben', u'beneath', u'benefit', u'bergman', u'berlin', u'bernard', u'besides', u'best', u'bet', u'betrayal', u'bette', u'better', u'bettie', u'betty', u'beverly', u'beware', u'beyond', u'biased', u'bible', u'big', u'bigger', u'biggest', u'bike', u'biko', u'bill', u'billed', u'billy', u'bin', u'biography', u'bird', u'birth', u'birthday', u'bit', u'bitch', u'bite', u'bitter', u'bizarre', u'black', u'blade', u'blah', u'blair', u'blake', u'blame', u'bland', u'blank', u'blast', u'blatant', u'bleak', u'blend', u'blew', u'blind', u'blob', u'block', u'blockbuster', u'blond', u'blonde', u'blood', u'bloody', u'blow', u'blowing', u'blown', u'blue', u'blunt', u'bo', u'board', u'boast', u'boat', u'bob', u'bobby', u'body', u'bold', u'boll', u'bollywood', u'bomb', u'bond', u'bone', u'bonus', u'book', u'boom', u'boot', u'border', u'bore', u'bored', u'boredom', u'boring', u'born', u'borrowed', u'bos', u'bother', u'bothered', u'bottle', u'bottom', u'bought', u'bound', u'bourne', u'bow', u'box', u'boxer', u'boxing', u'boy', u'boyfriend', u'boyle', u'brad', u'brady', u'brain', u'branagh', u'brand', u'brando', u'brave', u'brazil', u'bread', u'break', u'breaking', u'breast', u'breath', u'breathtaking', u'breed', u'brenda', u'brendan', u'brian', u'bride', u'bridge', u'bridget', u'brief', u'briefly', u'bright', u'brilliance', u'brilliant', u'brilliantly', u'bring', u'bringing', u'brings', u'brit', u'britain', u'british', u'broad', u'broadcast', u'broadway', u'broke', u'broken', u'bronson', u'brook', u'brooklyn', u'brosnan', u'brother', u'brought', u'brown', u'bruce', u'brutal', u'brutality', u'brutally', u'bubble', u'buck', u'bud', u'buddy', u'budget', u'buff', u'buffalo', u'bug', u'build', u'building', u'built', u'bull', u'bullet', u'bully', u'bumbling', u'bunch', u'bunny', u'buried', u'burn', u'burned', u'burning', u'burst', u'burt', u'burton', u'bus', u'bush', u'business', u'businessman', u'buster', u'busy', u'butler', u'butt', u'button', u'buy', u'buying', u'bye', u'cabin', u'cable', u'cage', u'cagney', u'caine', u'cake', u'caliber', u'california', u'call', u'called', u'calling', u'calm', u'came', u'cameo', u'camera', u'cameron', u'camp', u'campaign', u'campbell', u'campy', u'canada', u'canadian', u'cancer', u'candidate', u'candle', u'candy', u'cannibal', u'cannon', u'cannot', u'cant', u'canyon', u'capable', u'capital', u'captain', u'captivating', u'capture', u'captured', u'capturing', u'car', u'card', u'cardboard', u'care', u'cared', u'career', u'careful', u'carefully', u'carell', u'caricature', u'caring', u'carl', u'carla', u'carol', u'carpenter', u'carradine', u'carrey', u'carrie', u'carried', u'carry', u'carrying', u'carter', u'cartoon', u'cary', u'case', u'cash', u'cassidy', u'cast', u'casting', u'castle', u'cat', u'catch', u'catching', u'catchy', u'category', u'catherine', u'catholic', u'cattle', u'caught', u'cause', u'caused', u'causing', u'cave', u'cd', u'celebration', u'celebrity', u'cell', u'celluloid', u'cent', u'center', u'centered', u'central', u'centre', u'century', u'certain', u'certainly', u'cg', u'cgi', u'chain', u'chainsaw', u'chair', u'challenge', u'challenged', u'challenging', u'chamberlain', u'champion', u'championship', u'chan', u'chance', u'change', u'changed', u'changing', u'channel', u'chaos', u'chaplin', u'chapter', u'character', u'characteristic', u'characterization', u'charge', u'charged', u'charisma', u'charismatic', u'charles', u'charlie', u'charlotte', u'charm', u'charming', u'chase', u'chased', u'chasing', u'chavez', u'che', u'cheap', u'cheated', u'cheating', u'check', u'checked', u'checking', u'cheek', u'cheer', u'cheese', u'cheesy', u'chemistry', u'chess', u'chest', u'chicago', u'chick', u'chicken', u'chief', u'child', u'childhood', u'childish', u'chill', u'chilling', u'china', u'chinese', u'choice', u'choose', u'chooses', u'chop', u'choppy', u'choreographed', u'choreography', u'chorus', u'chose', u'chosen', u'chris', u'christ', u'christian', u'christianity', u'christine', u'christmas', u'christopher', u'christy', u'chronicle', u'chuck', u'chuckle', u'church', u'cia', u'cigarette', u'cinderella', u'cinema', u'cinematic', u'cinematographer', u'cinematography', u'circle', u'circumstance', u'circus', u'citizen', u'city', u'civil', u'civilization', u'claim', u'claimed', u'claire', u'clan', u'clark', u'clarke', u'clash', u'class', u'classic', u'classical', u'claus', u'clean', u'clear', u'clearly', u'clerk', u'clever', u'cleverly', u'clich', u'cliche', u'cliff', u'climactic', u'climax', u'climb', u'clint', u'clip', u'clock', u'clone', u'close', u'closed', u'closely', u'closer', u'closest', u'closet', u'closing', u'clothes', u'clothing', u'cloud', u'clown', u'club', u'clue', u'clumsy', u'co', u'coach', u'coast', u'coaster', u'coat', u'code', u'coffee', u'coherent', u'coincidence', u'cold', u'cole', u'colleague', u'collection', u'college', u'colonel', u'color', u'colorful', u'colour', u'columbo', u'com', u'combat', u'combination', u'combine', u'combined', u'come', u'comedian', u'comedic', u'comedy', u'comfort', u'comfortable', u'comic', u'comical', u'coming', u'command', u'commander', u'comment', u'commentary', u'commented', u'commercial', u'commit', u'committed', u'common', u'communist', u'community', u'companion', u'company', u'compare', u'compared', u'comparing', u'comparison', u'compassion', u'compelled', u'compelling', u'competent', u'competition', u'complain', u'complaining', u'complaint', u'complete', u'completely', u'complex', u'complexity', u'complicated', u'compliment', u'composed', u'composer', u'composition', u'computer', u'con', u'conceived', u'concentrate', u'concept', u'concern', u'concerned', u'concerning', u'concert', u'conclusion', u'condition', u'confess', u'confidence', u'conflict', u'confrontation', u'confused', u'confusing', u'confusion', u'connect', u'connected', u'connection', u'connery', u'conscience', u'conscious', u'consequence', u'conservative', u'consider', u'considerable', u'considered', u'considering', u'consistent', u'consistently', u'consists', u'conspiracy', u'constant', u'constantly', u'constructed', u'construction', u'contact', u'contain', u'contained', u'contains', u'contemporary', u'content', u'contest', u'contestant', u'context', u'continue', u'continued', u'continues', u'continuity', u'contract', u'contrary', u'contrast', u'contribution', u'contrived', u'control', u'controlled', u'controversial', u'convention', u'conventional', u'conversation', u'convey', u'convict', u'conviction', u'convince', u'convinced', u'convincing', u'convincingly', u'convoluted', u'cook', u'cool', u'cooper', u'cop', u'cope', u'copy', u'core', u'corner', u'corny', u'corporate', u'corporation', u'corps', u'corpse', u'correct', u'correctly', u'corrupt', u'corruption', u'cost', u'costume', u'couch', u'could', u'count', u'counter', u'counterpart', u'countless', u'country', u'countryside', u'coup', u'couple', u'courage', u'course', u'court', u'cousin', u'cover', u'covered', u'cowboy', u'cox', u'crack', u'cracking', u'craft', u'crafted', u'craig', u'crap', u'crappy', u'crash', u'craven', u'crawford', u'crazed', u'crazy', u'cream', u'create', u'created', u'creates', u'creating', u'creation', u'creative', u'creativity', u'creator', u'creature', u'credibility', u'credible', u'credit', u'credited', u'creep', u'creepy', u'crew', u'cried', u'crime', u'criminal', u'cringe', u'crisis', u'critic', u'critical', u'criticism', u'critique', u'crocodile', u'crook', u'cross', u'crowd', u'crucial', u'crude', u'cruel', u'cruelty', u'cruise', u'crush', u'cry', u'crystal', u'cuba', u'cube', u'cue', u'cult', u'cultural', u'culture', u'cup', u'cure', u'curiosity', u'curious', u'curly', u'current', u'currently', u'curse', u'curtis', u'cusack', u'cut', u'cute', u'cutting', u'cyborg', u'cynical', u'da', u'dad', u'daddy', u'daily', u'daisy', u'dalton', u'damage', u'damme', u'damn', u'damon', u'dan', u'dana', u'dance', u'dancer', u'dancing', u'dandy', u'dane', u'danger', u'dangerous', u'daniel', u'danny', u'dare', u'daring', u'dark', u'darker', u'darkness', u'darn', u'darren', u'date', u'dated', u'dating', u'daughter', u'dave', u'david', u'davis', u'davy', u'dawn', u'dawson', u'day', u'de', u'dead', u'deadly', u'deaf', u'deal', u'dealer', u'dealing', u'dealt', u'dean', u'dear', u'death', u'debate', u'debt', u'debut', u'decade', u'deceased', u'decent', u'decide', u'decided', u'decides', u'decision', u'dedicated', u'dee', u'deed', u'deep', u'deeper', u'deeply', u'defeat', u'defend', u'defense', u'defined', u'definite', u'definitely', u'definition', u'degree', u'del', u'deleted', u'deliberately', u'delight', u'delightful', u'deliver', u'delivered', u'delivering', u'delivers', u'delivery', u'demand', u'demented', u'demise', u'demon', u'deniro', u'dennis', u'dentist', u'denzel', u'department', u'depicted', u'depicting', u'depiction', u'depicts', u'depressed', u'depressing', u'depression', u'depth', u'der', u'deranged', u'derek', u'descent', u'describe', u'described', u'describes', u'description', u'desert', u'deserted', u'deserve', u'deserved', u'deserves', u'design', u'designed', u'designer', u'desire', u'desired', u'despair', u'desperate', u'desperately', u'desperation', u'despite', u'destiny', u'destroy', u'destroyed', u'destroying', u'destruction', u'detail', u'detailed', u'detective', u'determined', u'develop', u'developed', u'developing', u'development', u'develops', u'device', u'devil', u'devoid', u'devoted', u'dialog', u'dialogue', u'diamond', u'diana', u'diane', u'diary', u'dick', u'dickens', u'die', u'died', u'difference', u'different', u'difficult', u'difficulty', u'dig', u'digital', u'dignity', u'dilemma', u'dimension', u'dimensional', u'din', u'dinner', u'dinosaur', u'dire', u'direct', u'directed', u'directing', u'direction', u'directly', u'director', u'directorial', u'directs', u'dirt', u'dirty', u'disagree', u'disappear', u'disappeared', u'disappears', u'disappoint', u'disappointed', u'disappointing', u'disappointment', u'disaster', u'disbelief', u'disc', u'discover', u'discovered', u'discovering', u'discovers', u'discovery', u'discus', u'discussion', u'disease', u'disguise', u'disgusting', u'disjointed', u'dislike', u'disliked', u'disney', u'disorder', u'display', u'displayed', u'distance', u'distant', u'distinct', u'distracting', u'distribution', u'disturbed', u'disturbing', u'divorce', u'dixon', u'doc', u'doctor', u'document', u'documentary', u'dog', u'doll', u'dollar', u'dolph', u'domestic', u'domino', u'donald', u'done', u'donna', u'dont', u'doo', u'doom', u'doomed', u'door', u'dorothy', u'dose', u'double', u'doubt', u'douglas', u'downey', u'downhill', u'downright', u'dozen', u'dr', u'dracula', u'drag', u'dragged', u'dragon', u'drake', u'drama', u'dramatic', u'draw', u'drawing', u'drawn', u'dreadful', u'dream', u'dreary', u'dreck', u'dress', u'dressed', u'dressing', u'drew', u'drink', u'drinking', u'drive', u'drivel', u'driven', u'driver', u'driving', u'drop', u'dropped', u'dropping', u'drove', u'drug', u'drum', u'drunk', u'drunken', u'dry', u'dub', u'dubbed', u'dubbing', u'duck', u'dud', u'dude', u'due', u'duke', u'dull', u'dumb', u'dump', u'duo', u'dust', u'dutch', u'duty', u'duvall', u'dvd', u'dy', u'dying', u'dynamic', u'dysfunctional', u'eager', u'ear', u'earl', u'earlier', u'early', u'earned', u'earth', u'ease', u'easier', u'easily', u'east', u'eastern', u'eastwood', u'easy', u'eat', u'eaten', u'eating', u'eccentric', u'echo', u'ed', u'eddie', u'edgar', u'edge', u'edgy', u'edie', u'edit', u'edited', u'editing', u'edition', u'editor', u'education', u'educational', u'edward', u'eerie', u'effect', u'effective', u'effectively', u'effort', u'egg', u'ego', u'eight', u'eighty', u'either', u'el', u'elaborate', u'elderly', u'election', u'electric', u'elegant', u'element', u'elephant', u'elevator', u'elite', u'elizabeth', u'ellen', u'elm', u'else', u'elsewhere', u'elvira', u'elvis', u'em', u'embarrassed', u'embarrassing', u'embarrassment', u'embrace', u'emily', u'emma', u'emotion', u'emotional', u'emotionally', u'empathy', u'emperor', u'emphasis', u'empire', u'employee', u'empty', u'en', u'encounter', u'encourage', u'end', u'endearing', u'ended', u'ending', u'endless', u'endure', u'enemy', u'energy', u'engage', u'engaged', u'engaging', u'england', u'english', u'enjoy', u'enjoyable', u'enjoyed', u'enjoying', u'enjoyment', u'enjoys', u'enormous', u'enough', u'ensemble', u'ensues', u'enter', u'enterprise', u'enters', u'entertain', u'entertained', u'entertaining', u'entertainment', u'enthusiasm', u'entire', u'entirely', u'entry', u'environment', u'epic', u'episode', u'equal', u'equally', u'equipment', u'equivalent', u'er', u'era', u'eric', u'erotic', u'error', u'escape', u'escaped', u'especially', u'essence', u'essential', u'essentially', u'established', u'estate', u'esther', u'et', u'etc', u'eternal', u'ethan', u'ethnic', u'eugene', u'europe', u'european', u'eva', u'eve', u'even', u'evening', u'event', u'eventually', u'ever', u'every', u'everybody', u'everyday', u'everyone', u'everything', u'everywhere', u'evidence', u'evident', u'evidently', u'evil', u'ex', u'exact', u'exactly', u'exaggerated', u'examination', u'example', u'excellent', u'except', u'exception', u'exceptional', u'exceptionally', u'excess', u'excessive', u'exchange', u'excited', u'excitement', u'exciting', u'excuse', u'executed', u'execution', u'executive', u'exercise', u'exist', u'existed', u'existence', u'existent', u'exists', u'exotic', u'expect', u'expectation', u'expected', u'expecting', u'expedition', u'expensive', u'experience', u'experienced', u'experiment', u'experimental', u'expert', u'explain', u'explained', u'explaining', u'explains', u'explanation', u'explicit', u'exploit', u'exploitation', u'exploration', u'explore', u'explored', u'explosion', u'expose', u'exposed', u'exposition', u'exposure', u'express', u'expressed', u'expression', u'extended', u'extent', u'exterior', u'extra', u'extraordinary', u'extreme', u'extremely', u'eye', u'eyed', u'eyre', u'fabulous', u'face', u'faced', u'facial', u'facing', u'fact', u'factor', u'factory', u'fade', u'fail', u'failed', u'failing', u'fails', u'failure', u'fair', u'fairly', u'fairy', u'faith', u'faithful', u'fake', u'falk', u'fall', u'fallen', u'falling', u'false', u'fame', u'familiar', u'family', u'famous', u'fan', u'fanatic', u'fancy', u'fantastic', u'fantasy', u'far', u'farce', u'fare', u'farm', u'farmer', u'farrell', u'fascinated', u'fascinating', u'fascination', u'fashion', u'fashioned', u'fast', u'faster', u'fat', u'fatal', u'fate', u'father', u'fault', u'favor', u'favorite', u'favour', u'favourite', u'fay', u'fbi', u'fear', u'feat', u'feature', u'featured', u'featuring', u'fed', u'feed', u'feel', u'feeling', u'felix', u'fell', u'fellow', u'felt', u'female', u'feminist', u'femme', u'fest', u'festival', u'fetched', u'fever', u'fi', u'fianc', u'fiction', u'fictional', u'fido', u'field', u'fifteen', u'fifty', u'fight', u'fighter', u'fighting', u'figure', u'figured', u'file', u'fill', u'filled', u'filler', u'filling', u'film', u'filmed', u'filming', u'filmmaker', u'final', u'finale', u'finally', u'financial', u'find', u'finding', u'fine', u'finest', u'finger', u'finish', u'finished', u'fire', u'fired', u'firm', u'first', u'firstly', u'fish', u'fisher', u'fishing', u'fist', u'fit', u'fitting', u'five', u'fix', u'flair', u'flame', u'flash', u'flashback', u'flat', u'flaw', u'flawed', u'flawless', u'flesh', u'flick', u'flight', u'floating', u'floor', u'flop', u'florida', u'flow', u'flower', u'fly', u'flying', u'flynn', u'focus', u'focused', u'focusing', u'fog', u'folk', u'follow', u'followed', u'following', u'follows', u'fond', u'fonda', u'fontaine', u'food', u'fool', u'fooled', u'foot', u'footage', u'football', u'forbidden', u'force', u'forced', u'ford', u'foreign', u'forest', u'forever', u'forget', u'forgettable', u'forgive', u'forgot', u'forgotten', u'form', u'format', u'former', u'formula', u'formulaic', u'forth', u'fortunately', u'fortune', u'forty', u'forward', u'foster', u'fought', u'foul', u'found', u'four', u'fourth', u'fox', u'foxx', u'frame', u'framed', u'france', u'franchise', u'francis', u'francisco', u'franco', u'frank', u'frankenstein', u'frankie', u'frankly', u'freak', u'fred', u'freddy', u'free', u'freedom', u'freeman', u'freeze', u'french', u'frequent', u'frequently', u'fresh', u'friday', u'friend', u'friendly', u'friendship', u'frightened', u'frightening', u'front', u'frustrated', u'frustrating', u'frustration', u'fu', u'fulci', u'full', u'fuller', u'fully', u'fun', u'function', u'funeral', u'funnier', u'funniest', u'funny', u'furious', u'furthermore', u'fury', u'future', u'futuristic', u'fx', u'gabriel', u'gadget', u'gag', u'gain', u'gal', u'gambling', u'game', u'gandhi', u'gang', u'gangster', u'gap', u'garbage', u'garbo', u'garden', u'garner', u'gary', u'gas', u'gate', u'gather', u'gave', u'gay', u'gear', u'geek', u'gem', u'gender', u'gene', u'general', u'generally', u'generated', u'generation', u'generic', u'generous', u'genie', u'genius', u'genre', u'gentle', u'gentleman', u'genuine', u'genuinely', u'george', u'gerard', u'german', u'germany', u'gesture', u'get', u'getting', u'ghost', u'giallo', u'giant', u'gift', u'gifted', u'gillian', u'gimmick', u'gina', u'ginger', u'girl', u'girlfriend', u'give', u'given', u'giving', u'glad', u'glance', u'glass', u'glenn', u'glimpse', u'global', u'globe', u'glorious', u'glory', u'glover', u'glowing', u'go', u'goal', u'god', u'godfather', u'godzilla', u'goer', u'going', u'gold', u'goldberg', u'golden', u'gone', u'gonna', u'good', u'goodness', u'goofy', u'gordon', u'gore', u'gorgeous', u'gory', u'got', u'gothic', u'gotta', u'gotten', u'government', u'grab', u'grace', u'grade', u'gradually', u'graham', u'grand', u'grandfather', u'grandmother', u'grant', u'granted', u'graphic', u'grasp', u'gratuitous', u'grave', u'gray', u'grayson', u'great', u'greater', u'greatest', u'greatly', u'greatness', u'greed', u'greedy', u'greek', u'green', u'greg', u'gregory', u'grew', u'grey', u'grief', u'griffith', u'grim', u'grinch', u'grip', u'gripping', u'gritty', u'gross', u'grotesque', u'ground', u'group', u'grow', u'growing', u'grown', u'grows', u'grudge', u'gruesome', u'guarantee', u'guaranteed', u'guard', u'guess', u'guessed', u'guessing', u'guest', u'guide', u'guilt', u'guilty', u'guitar', u'gun', u'gundam', u'gut', u'guy', u'ha', u'habit', u'hack', u'hackneyed', u'hair', u'haired', u'hal', u'half', u'halfway', u'hall', u'halloween', u'ham', u'hamilton', u'hamlet', u'hammer', u'hammy', u'han', u'hand', u'handed', u'handful', u'handle', u'handled', u'handling', u'handsome', u'hang', u'hanging', u'hank', u'happen', u'happened', u'happening', u'happens', u'happily', u'happiness', u'happy', u'hard', u'hardcore', u'harder', u'hardly', u'hardy', u'harm', u'harris', u'harry', u'harsh', u'hart', u'hartley', u'harvey', u'hat', u'hate', u'hated', u'hatred', u'haunt', u'haunted', u'haunting', u'hawke', u'hbo', u'head', u'headache', u'headed', u'heading', u'health', u'hear', u'heard', u'hearing', u'hears', u'heart', u'heartbreaking', u'hearted', u'heartfelt', u'heat', u'heaven', u'heavily', u'heavy', u'heck', u'heel', u'height', u'heist', u'held', u'helen', u'helicopter', u'hell', u'hello', u'help', u'helped', u'helping', u'hence', u'henchman', u'henry', u'hepburn', u'hero', u'heroic', u'heroine', u'heston', u'hey', u'hidden', u'hide', u'hideous', u'hiding', u'high', u'higher', u'highest', u'highlight', u'highly', u'hilarious', u'hilariously', u'hill', u'hint', u'hip', u'hippie', u'hippy', u'hire', u'hired', u'historic', u'historical', u'historically', u'history', u'hit', u'hitchcock', u'hitler', u'hitting', u'hk', u'ho', u'hoffman', u'hold', u'holding', u'hole', u'holiday', u'hollow', u'holly', u'hollywood', u'holmes', u'holy', u'homage', u'home', u'homeless', u'homer', u'homosexual', u'honest', u'honestly', u'honesty', u'hong', u'honor', u'hood', u'hook', u'hooked', u'hop', u'hope', u'hoped', u'hopefully', u'hopeless', u'hopelessly', u'hoping', u'hopkins', u'hopper', u'horrendous', u'horrible', u'horribly', u'horrid', u'horrific', u'horrifying', u'horror', u'horse', u'hospital', u'host', u'hot', u'hotel', u'hour', u'house', u'household', u'housewife', u'howard', u'however', u'hudson', u'huge', u'hugh', u'hughes', u'huh', u'human', u'humanity', u'humble', u'humor', u'humorous', u'humour', u'hundred', u'hung', u'hungry', u'hunt', u'hunter', u'hunting', u'hurt', u'husband', u'hyde', u'hype', u'hyped', u'hysterical', u'ian', u'ice', u'icon', u'idea', u'ideal', u'identify', u'identity', u'idiot', u'idiotic', u'ignorance', u'ignorant', u'ignore', u'ignored', u'ii', u'iii', u'ill', u'illegal', u'illness', u'illogical', u'im', u'image', u'imagery', u'imaginable', u'imagination', u'imaginative', u'imagine', u'imagined', u'imdb', u'imitation', u'immediate', u'immediately', u'immensely', u'immigrant', u'impact', u'implausible', u'importance', u'important', u'importantly', u'impossible', u'impress', u'impressed', u'impression', u'impressive', u'improve', u'improved', u'improvement', u'inability', u'inane', u'inappropriate', u'incident', u'include', u'included', u'includes', u'including', u'incoherent', u'incompetent', u'incomprehensible', u'inconsistent', u'increasingly', u'incredible', u'incredibly', u'indeed', u'independent', u'india', u'indian', u'indication', u'indie', u'individual', u'inducing', u'indulgent', u'industrial', u'industry', u'inept', u'inevitable', u'inevitably', u'inexplicably', u'infamous', u'infected', u'inferior', u'influence', u'influenced', u'information', u'ingredient', u'inhabitant', u'initial', u'initially', u'injury', u'inmate', u'inner', u'innocence', u'innocent', u'innovative', u'insane', u'inside', u'insight', u'inspector', u'inspiration', u'inspired', u'inspiring', u'installment', u'instance', u'instant', u'instantly', u'instead', u'instinct', u'institution', u'insult', u'insulting', u'insurance', u'integrity', u'intellectual', u'intelligence', u'intelligent', u'intended', u'intense', u'intensity', u'intent', u'intention', u'intentionally', u'interaction', u'interest', u'interested', u'interesting', u'interior', u'international', u'internet', u'interpretation', u'interview', u'intimate', u'intrigue', u'intrigued', u'intriguing', u'introduce', u'introduced', u'introduces', u'introduction', u'invasion', u'invented', u'inventive', u'investigate', u'investigation', u'invisible', u'invite', u'invited', u'involve', u'involved', u'involvement', u'involves', u'involving', u'iran', u'iraq', u'ireland', u'irish', u'iron', u'ironic', u'ironically', u'irony', u'irrelevant', u'irritating', u'ish', u'island', u'isolated', u'israel', u'issue', u'italian', u'italy', u'item', u'iv', u'jack', u'jacket', u'jackie', u'jackson', u'jail', u'jake', u'james', u'jamie', u'jane', u'japan', u'japanese', u'jason', u'jaw', u'jay', u'jazz', u'jealous', u'jean', u'jeff', u'jeffrey', u'jennifer', u'jenny', u'jeremy', u'jerk', u'jerry', u'jess', u'jesse', u'jessica', u'jesus', u'jet', u'jew', u'jewel', u'jewish', u'jim', u'jimmy', u'joan', u'job', u'joe', u'joel', u'joey', u'john', u'johnny', u'johnson', u'join', u'joined', u'joke', u'jon', u'jonathan', u'jones', u'joseph', u'josh', u'journalist', u'journey', u'joy', u'jr', u'judge', u'judging', u'judy', u'julia', u'julian', u'julie', u'jump', u'jumped', u'jumping', u'june', u'jungle', u'junior', u'junk', u'justice', u'justify', u'justin', u'juvenile', u'kane', u'kansa', u'kapoor', u'karen', u'karl', u'karloff', u'kate', u'kay', u'keaton', u'keep', u'keeping', u'keith', u'kelly', u'ken', u'kennedy', u'kenneth', u'kept', u'kevin', u'key', u'khan', u'kick', u'kicked', u'kicking', u'kid', u'kidding', u'kidman', u'kidnapped', u'kill', u'killed', u'killer', u'killing', u'kim', u'kind', u'kinda', u'king', u'kingdom', u'kirk', u'kiss', u'kissing', u'kitchen', u'kitty', u'kline', u'knew', u'knife', u'knight', u'knock', u'knocked', u'know', u'knowing', u'knowledge', u'known', u'kolchak', u'kong', u'korean', u'kubrick', u'kudos', u'kumar', u'kung', u'kurosawa', u'kurt', u'kyle', u'la', u'lab', u'label', u'labor', u'lack', u'lacked', u'lacking', u'lackluster', u'ladder', u'lady', u'laid', u'lake', u'lame', u'land', u'landing', u'landscape', u'lane', u'language', u'large', u'largely', u'larger', u'larry', u'last', u'lasted', u'late', u'lately', u'later', u'latest', u'latin', u'latter', u'laugh', u'laughable', u'laughably', u'laughed', u'laughing', u'laughter', u'laura', u'laurel', u'laurence', u'law', u'lawrence', u'lawyer', u'lay', u'layer', u'lazy', u'le', u'lead', u'leader', u'leading', u'leaf', u'league', u'lean', u'leap', u'learn', u'learned', u'learning', u'learns', u'least', u'leave', u'leaving', u'led', u'lee', u'left', u'leg', u'legacy', u'legal', u'legend', u'legendary', u'leigh', u'lemmon', u'lena', u'length', u'lengthy', u'leo', u'leon', u'leonard', u'lesbian', u'leslie', u'lesser', u'lesson', u'lester', u'let', u'letter', u'letting', u'level', u'lewis', u'li', u'liberal', u'liberty', u'library', u'lie', u'life', u'lifestyle', u'lifetime', u'lift', u'light', u'lighting', u'likable', u'like', u'liked', u'likely', u'likewise', u'liking', u'lily', u'limit', u'limited', u'lincoln', u'linda', u'lindsay', u'line', u'liner', u'link', u'lion', u'lip', u'lisa', u'list', u'listed', u'listen', u'listening', u'lit', u'literally', u'literary', u'literature', u'little', u'live', u'lived', u'lively', u'living', u'lloyd', u'load', u'loaded', u'local', u'locale', u'location', u'lock', u'locked', u'logan', u'logic', u'logical', u'lois', u'lol', u'london', u'lone', u'loneliness', u'lonely', u'long', u'longer', u'look', u'looked', u'looking', u'loose', u'loosely', u'lord', u'los', u'lose', u'loser', u'loses', u'losing', u'loss', u'lost', u'lot', u'lou', u'loud', u'louis', u'louise', u'lousy', u'lovable', u'love', u'loved', u'lovely', u'lover', u'loving', u'low', u'lower', u'lowest', u'loyal', u'loyalty', u'lucas', u'luck', u'luckily', u'lucky', u'lucy', u'ludicrous', u'lugosi', u'luke', u'lumet', u'lundgren', u'lush', u'lust', u'lying', u'lynch', u'lyric', u'macarthur', u'machine', u'macho', u'macy', u'mad', u'made', u'madness', u'madonna', u'mafia', u'magazine', u'maggie', u'magic', u'magical', u'magnificent', u'maid', u'mail', u'main', u'mainly', u'mainstream', u'maintain', u'major', u'majority', u'make', u'maker', u'makeup', u'making', u'male', u'mall', u'malone', u'man', u'manage', u'managed', u'manager', u'manages', u'manhattan', u'maniac', u'manipulative', u'mankind', u'mann', u'manner', u'mansion', u'many', u'map', u'mar', u'marc', u'march', u'margaret', u'maria', u'marie', u'marine', u'mario', u'marion', u'mark', u'market', u'marketing', u'marriage', u'married', u'marry', u'marshall', u'martha', u'martial', u'martian', u'martin', u'marty', u'marvel', u'marvelous', u'mary', u'mask', u'mass', u'massacre', u'massive', u'master', u'masterful', u'masterpiece', u'match', u'matched', u'mate', u'material', u'matrix', u'matt', u'matter', u'matthau', u'matthew', u'mature', u'max', u'may', u'maybe', u'mayhem', u'mayor', u'mccoy', u'mclaglen', u'mean', u'meaning', u'meaningful', u'meaningless', u'meant', u'meanwhile', u'measure', u'meat', u'mechanical', u'medical', u'mediocre', u'medium', u'meet', u'meeting', u'meg', u'mel', u'melodrama', u'melodramatic', u'melody', u'melting', u'member', u'memorable', u'memory', u'men', u'menace', u'menacing', u'mental', u'mentality', u'mentally', u'mention', u'mentioned', u'mentioning', u'mere', u'merely', u'merit', u'mermaid', u'meryl', u'mess', u'message', u'messed', u'met', u'metal', u'metaphor', u'method', u'mexican', u'mexico', u'mgm', u'michael', u'michelle', u'mickey', u'mid', u'middle', u'midnight', u'might', u'mighty', u'miike', u'mike', u'mild', u'mildly', u'mildred', u'mile', u'military', u'milk', u'mill', u'miller', u'million', u'millionaire', u'min', u'mind', u'minded', u'mindless', u'mine', u'mini', u'minimal', u'minimum', u'minister', u'minor', u'minority', u'minus', u'minute', u'miracle', u'mirror', u'miscast', u'miserable', u'miserably', u'misery', u'misleading', u'miss', u'missed', u'missile', u'missing', u'mission', u'mistake', u'mistaken', u'mistress', u'mitchell', u'mix', u'mixed', u'mixture', u'miyazaki', u'mm', u'mob', u'mode', u'model', u'modern', u'modesty', u'molly', u'mom', u'moment', u'mon', u'money', u'monk', u'monkey', u'monologue', u'monster', u'montage', u'montana', u'month', u'mood', u'moody', u'moon', u'moore', u'moral', u'morality', u'morbid', u'moreover', u'morgan', u'mormon', u'morning', u'moron', u'moronic', u'morris', u'mostly', u'mother', u'motif', u'motion', u'motivation', u'mountain', u'mouse', u'mouth', u'move', u'moved', u'movement', u'movie', u'moving', u'mr', u'mst', u'mtv', u'much', u'muddled', u'multi', u'multiple', u'mummy', u'mundane', u'muppet', u'murder', u'murdered', u'murderer', u'murdering', u'murderous', u'murphy', u'murray', u'museum', u'music', u'musical', u'musician', u'muslim', u'must', u'mutant', u'myers', u'mysterious', u'mystery', u'myth', u'nail', u'naive', u'naked', u'name', u'named', u'namely', u'nancy', u'narration', u'narrative', u'narrator', u'nasty', u'nathan', u'nation', u'national', u'native', u'natural', u'naturally', u'nature', u'naughty', u'navy', u'nazi', u'nd', u'near', u'nearby', u'nearly', u'neat', u'necessarily', u'necessary', u'neck', u'ned', u'need', u'needed', u'needle', u'negative', u'neighbor', u'neighborhood', u'neil', u'neither', u'nelson', u'nemesis', u'neo', u'nephew', u'nerd', u'nerve', u'nervous', u'net', u'network', u'never', u'nevertheless', u'new', u'newcomer', u'newly', u'newman', u'news', u'newspaper', u'next', u'nice', u'nicely', u'nicholas', u'nicholson', u'nick', u'nicole', u'niece', u'night', u'nightmare', u'nine', u'ninety', u'ninja', u'niro', u'noble', u'nobody', u'nod', u'noir', u'noise', u'nolan', u'nominated', u'nomination', u'non', u'none', u'nonetheless', u'nonsense', u'nonsensical', u'norm', u'normal', u'normally', u'norman', u'north', u'nose', u'nostalgia', u'nostalgic', u'notable', u'notably', u'notch', u'note', u'noted', u'nothing', u'notice', u'noticed', u'notion', u'notorious', u'novak', u'novel', u'nowadays', u'nowhere', u'nuance', u'nuclear', u'nude', u'nudity', u'number', u'numerous', u'nun', u'nurse', u'nut', u'nyc', u'object', u'objective', u'obnoxious', u'obscure', u'observation', u'obsessed', u'obsession', u'obstacle', u'obvious', u'obviously', u'occasion', u'occasional', u'occasionally', u'occur', u'occurred', u'occurs', u'ocean', u'odd', u'oddly', u'odds', u'offended', u'offensive', u'offer', u'offered', u'offering', u'office', u'officer', u'official', u'often', u'oh', u'oil', u'ok', u'okay', u'old', u'older', u'oliver', u'olivier', u'ollie', u'omen', u'one', u'online', u'onto', u'open', u'opened', u'opening', u'opera', u'operation', u'opinion', u'opportunity', u'opposed', u'opposite', u'option', u'orange', u'order', u'ordered', u'ordinary', u'origin', u'original', u'originality', u'originally', u'orleans', u'orson', u'oscar', u'othello', u'others', u'otherwise', u'ought', u'out', u'outcome', u'outer', u'outfit', u'outing', u'outrageous', u'outside', u'outstanding', u'overacting', u'overall', u'overcome', u'overdone', u'overlong', u'overlook', u'overlooked', u'overly', u'overrated', u'overwhelming', u'owen', u'owner', u'oz', u'pace', u'paced', u'pacing', u'pacino', u'pack', u'package', u'packed', u'page', u'paid', u'pain', u'painful', u'painfully', u'paint', u'painted', u'painter', u'painting', u'pair', u'pal', u'palace', u'palance', u'pale', u'palma', u'paltrow', u'pamela', u'pan', u'panic', u'pant', u'paper', u'par', u'parade', u'paradise', u'parallel', u'paramount', u'paranoia', u'parent', u'paris', u'park', u'parker', u'parody', u'part', u'particular', u'particularly', u'partly', u'partner', u'party', u'pas', u'pass', u'passable', u'passage', u'passed', u'passenger', u'passing', u'passion', u'passionate', u'past', u'pat', u'path', u'pathetic', u'patience', u'patient', u'patricia', u'patrick', u'pattern', u'paul', u'paulie', u'pause', u'paxton', u'pay', u'paying', u'peace', u'peak', u'pearl', u'peck', u'penn', u'penny', u'people', u'per', u'perception', u'perfect', u'perfection', u'perfectly', u'perform', u'performance', u'performed', u'performer', u'performing', u'performs', u'perhaps', u'period', u'perry', u'person', u'persona', u'personal', u'personality', u'personally', u'perspective', u'pet', u'pete', u'peter', u'petty', u'pg', u'phantom', u'phenomenon', u'phil', u'philip', u'philosophical', u'philosophy', u'phone', u'phony', u'photo', u'photograph', u'photographed', u'photographer', u'photography', u'phrase', u'physical', u'physically', u'piano', u'pick', u'picked', u'picking', u'picture', u'pie', u'piece', u'pierce', u'pig', u'pile', u'pilot', u'pin', u'pink', u'pirate', u'pit', u'pitch', u'pitiful', u'pitt', u'pity', u'place', u'placed', u'plague', u'plain', u'plan', u'plane', u'planet', u'planned', u'planning', u'plant', u'plastic', u'plausible', u'play', u'played', u'player', u'playing', u'pleasant', u'pleasantly', u'please', u'pleased', u'pleasure', u'plenty', u'plight', u'plot', u'plus', u'pocket', u'poe', u'poem', u'poetic', u'poetry', u'poignant', u'point', u'pointed', u'pointless', u'poison', u'pokemon', u'polanski', u'pole', u'police', u'policeman', u'policy', u'polished', u'political', u'politically', u'politician', u'politics', u'pool', u'poor', u'poorly', u'pop', u'popcorn', u'popular', u'popularity', u'population', u'porn', u'porno', u'portion', u'portrait', u'portray', u'portrayal', u'portrayed', u'portraying', u'portrays', u'pose', u'posey', u'position', u'positive', u'positively', u'posse', u'possessed', u'possibility', u'possible', u'possibly', u'post', u'poster', u'pot', u'potential', u'potentially', u'pound', u'poverty', u'powell', u'power', u'powerful', u'practically', u'practice', u'praise', u'praised', u'prank', u'pre', u'precious', u'precisely', u'predator', u'predecessor', u'predictable', u'prefer', u'pregnant', u'prejudice', u'premiere', u'preminger', u'premise', u'prepare', u'prepared', u'preposterous', u'prequel', u'presence', u'present', u'presentation', u'presented', u'presenting', u'president', u'press', u'pressure', u'preston', u'presumably', u'pretend', u'pretending', u'pretentious', u'pretty', u'prevent', u'preview', u'previous', u'previously', u'prey', u'price', u'priceless', u'pride', u'priest', u'primarily', u'primary', u'prime', u'primitive', u'prince', u'princess', u'principal', u'principle', u'print', u'prior', u'prison', u'prisoner', u'private', u'prize', u'pro', u'probably', u'problem', u'proceeding', u'proceeds', u'process', u'produce', u'produced', u'producer', u'producing', u'product', u'production', u'prof', u'profanity', u'professional', u'professor', u'profound', u'program', u'progress', u'project', u'prom', u'promise', u'promised', u'promising', u'proof', u'prop', u'propaganda', u'proper', u'properly', u'property', u'prostitute', u'protagonist', u'protect', u'proud', u'prove', u'proved', u'provide', u'provided', u'provides', u'providing', u'provocative', u'provoking', u'pseudo', u'psychiatrist', u'psychic', u'psycho', u'psychological', u'psychology', u'psychopath', u'psychotic', u'public', u'pull', u'pulled', u'pulling', u'pulp', u'pun', u'punch', u'punishment', u'punk', u'puppet', u'puppy', u'purchase', u'purchased', u'pure', u'purely', u'purple', u'purpose', u'pursuit', u'push', u'pushed', u'pushing', u'put', u'putting', u'puzzle', u'quaid', u'quality', u'quarter', u'queen', u'quest', u'question', u'questionable', u'quick', u'quickly', u'quiet', u'quietly', u'quinn', u'quirky', u'quit', u'quite', u'quote', u'rabbit', u'race', u'rachel', u'racial', u'racism', u'racist', u'radical', u'radio', u'rage', u'rain', u'raines', u'raise', u'raised', u'raising', u'ralph', u'rambo', u'ramones', u'ran', u'random', u'randomly', u'randy', u'range', u'ranger', u'rank', u'rap', u'rape', u'raped', u'rapist', u'rare', u'rarely', u'rat', u'rate', u'rated', u'rather', u'rating', u'ratso', u'rave', u'raw', u'ray', u'raymond', u'rd', u'reach', u'reached', u'reaching', u'react', u'reaction', u'read', u'reader', u'reading', u'ready', u'real', u'realise', u'realised', u'realism', u'realistic', u'reality', u'realize', u'realized', u'realizes', u'realizing', u'really', u'realm', u'rear', u'reason', u'reasonable', u'reasonably', u'rebel', u'recall', u'receive', u'received', u'receives', u'recent', u'recently', u'recognition', u'recognize', u'recognized', u'recommend', u'recommendation', u'recommended', u'record', u'recorded', u'recording', u'red', u'redeeming', u'redemption', u'reduced', u'reed', u'reef', u'reel', u'refer', u'reference', u'referred', u'reflect', u'reflection', u'refreshing', u'refuse', u'refused', u'regard', u'regarded', u'regarding', u'regardless', u'region', u'regret', u'regular', u'reid', u'reign', u'reject', u'rejected', u'relate', u'related', u'relation', u'relationship', u'relative', u'relatively', u'relax', u'release', u'released', u'relevant', u'relief', u'relies', u'religion', u'religious', u'reluctant', u'rely', u'remain', u'remained', u'remaining', u'remains', u'remake', u'remark', u'remarkable', u'remarkably', u'remember', u'remembered', u'remind', u'reminded', u'reminds', u'reminiscent', u'remote', u'remotely', u'remove', u'removed', u'renaissance', u'rendition', u'rent', u'rental', u'rented', u'renting', u'repeat', u'repeated', u'repeatedly', u'repetitive', u'replace', u'replaced', u'reply', u'report', u'reporter', u'represent', u'representation', u'represented', u'represents', u'reputation', u'require', u'required', u'requires', u'rescue', u'research', u'resemblance', u'resemble', u'resembles', u'resident', u'resist', u'resolution', u'resort', u'resource', u'respect', u'respected', u'respective', u'respectively', u'response', u'responsibility', u'responsible', u'rest', u'restaurant', u'restored', u'result', u'resulting', u'retarded', u'retired', u'return', u'returned', u'returning', u'reunion', u'reveal', u'revealed', u'revealing', u'reveals', u'revelation', u'revenge', u'review', u'reviewer', u'revolution', u'revolutionary', u'revolves', u'reward', u'rex', u'reynolds', u'rhythm', u'rich', u'richard', u'richards', u'richardson', u'rick', u'rid', u'ridden', u'ride', u'rider', u'ridiculous', u'ridiculously', u'riding', u'rifle', u'right', u'ring', u'riot', u'rip', u'ripped', u'rise', u'rising', u'risk', u'rita', u'ritter', u'ritual', u'rival', u'river', u'riveting', u'road', u'rob', u'robber', u'robbery', u'robbins', u'robert', u'robin', u'robinson', u'robot', u'rochester', u'rock', u'rocket', u'rocky', u'rod', u'roger', u'rogers', u'role', u'roll', u'rolled', u'roller', u'rolling', u'roman', u'romance', u'romantic', u'rome', u'romero', u'romp', u'ron', u'roof', u'room', u'roommate', u'rooney', u'root', u'rope', u'rose', u'rosemary', u'ross', u'roth', u'rotten', u'rough', u'round', u'route', u'routine', u'row', u'roy', u'royal', u'rubber', u'rubbish', u'ruby', u'rude', u'ruin', u'ruined', u'rukh', u'rule', u'run', u'runner', u'running', u'rural', u'rush', u'rushed', u'russell', u'russia', u'russian', u'ruth', u'ruthless', u'ryan', u'sabrina', u'sacrifice', u'sad', u'sadistic', u'sadly', u'sadness', u'safe', u'safety', u'saga', u'said', u'sailor', u'saint', u'sake', u'sale', u'sally', u'sam', u'samurai', u'san', u'sand', u'sandler', u'sandra', u'santa', u'sappy', u'sarah', u'sat', u'satan', u'satire', u'satisfied', u'satisfy', u'satisfying', u'saturday', u'savage', u'save', u'saved', u'saving', u'saw', u'say', u'saying', u'scale', u'scare', u'scarecrow', u'scared', u'scary', u'scenario', u'scene', u'scenery', u'scheme', u'school', u'sci', u'science', u'scientific', u'scientist', u'scooby', u'scope', u'score', u'scotland', u'scott', u'scottish', u'scratch', u'scream', u'screaming', u'screen', u'screening', u'screenplay', u'screenwriter', u'screw', u'script', u'scripted', u'scrooge', u'sea', u'seagal', u'sean', u'search', u'searching', u'season', u'seat', u'second', u'secondary', u'secondly', u'secret', u'secretary', u'secretly', u'section', u'security', u'see', u'seed', u'seeing', u'seek', u'seeking', u'seem', u'seemed', u'seemingly', u'seems', u'seen', u'segment', u'seldom', u'selection', u'self', u'selfish', u'sell', u'seller', u'selling', u'semi', u'send', u'sends', u'sens', u'sense', u'senseless', u'sensibility', u'sensitive', u'sent', u'sentence', u'sentiment', u'sentimental', u'sentinel', u'separate', u'september', u'sequel', u'sequence', u'serf', u'sergeant', u'serial', u'series', u'serious', u'seriously', u'servant', u'serve', u'served', u'service', u'serving', u'session', u'set', u'setting', u'settle', u'setup', u'seven', u'seventy', u'several', u'severe', u'severely', u'sex', u'sexual', u'sexuality', u'sexually', u'sexy', u'sh', u'shade', u'shadow', u'shake', u'shakespeare', u'shaky', u'shall', u'shallow', u'shame', u'shanghai', u'shape', u'share', u'shared', u'shark', u'sharon', u'sharp', u'shaw', u'shed', u'sheer', u'sheet', u'shelf', u'shell', u'shelley', u'sheriff', u'shift', u'shine', u'shining', u'ship', u'shirley', u'shirt', u'shock', u'shocked', u'shocking', u'shoddy', u'shoe', u'shoot', u'shooting', u'shootout', u'shop', u'short', u'shortcoming', u'shortly', u'shot', u'shoulder', u'show', u'showcase', u'showdown', u'showed', u'shower', u'showing', u'shown', u'shut', u'shy', u'sibling', u'sick', u'sid', u'side', u'sidekick', u'sidney', u'sight', u'sign', u'signed', u'significance', u'significant', u'silence', u'silent', u'silliness', u'silly', u'silver', u'similar', u'similarity', u'similarly', u'simmons', u'simon', u'simple', u'simplicity', u'simplistic', u'simply', u'simpson', u'simultaneously', u'sin', u'sinatra', u'since', u'sincere', u'sing', u'singer', u'singing', u'single', u'sings', u'sinister', u'sink', u'sir', u'sirk', u'sissy', u'sister', u'sit', u'sitcom', u'site', u'sits', u'sitting', u'situation', u'six', u'sixty', u'size', u'sketch', u'skill', u'skin', u'skip', u'skit', u'skull', u'sky', u'slap', u'slapstick', u'slasher', u'slaughter', u'slave', u'sleazy', u'sleep', u'sleeping', u'slice', u'slick', u'slide', u'slight', u'slightest', u'slightly', u'slip', u'sloppy', u'slow', u'slowly', u'slug', u'small', u'smaller', u'smart', u'smash', u'smile', u'smiling', u'smith', u'smoke', u'smoking', u'smooth', u'snake', u'sneak', u'sniper', u'snl', u'snow', u'soap', u'soccer', u'social', u'society', u'soderbergh', u'soft', u'sold', u'soldier', u'sole', u'solely', u'solid', u'solo', u'solution', u'solve', u'somebody', u'somehow', u'someone', u'something', u'sometimes', u'somewhat', u'somewhere', u'son', u'song', u'soon', u'sooner', u'sophisticated', u'soprano', u'sorry', u'sort', u'soul', u'sound', u'sounded', u'sounding', u'soundtrack', u'soup', u'source', u'south', u'southern', u'soviet', u'space', u'spacey', u'spain', u'span', u'spanish', u'spare', u'spark', u'speak', u'speaking', u'speaks', u'special', u'specially', u'specie', u'specific', u'specifically', u'spectacular', u'speech', u'speed', u'spell', u'spend', u'spending', u'spends', u'spent', u'spider', u'spielberg', u'spike', u'spin', u'spirit', u'spirited', u'spiritual', u'spit', u'spite', u'splatter', u'splendid', u'split', u'spock', u'spoil', u'spoiled', u'spoiler', u'spoke', u'spoken', u'spoof', u'spooky', u'sport', u'spot', u'spread', u'spring', u'springer', u'spy', u'squad', u'square', u'st', u'stab', u'stack', u'staff', u'stage', u'staged', u'stake', u'stale', u'stalker', u'stallone', u'stan', u'stand', u'standard', u'standing', u'stanley', u'stanwyck', u'star', u'stare', u'stargate', u'staring', u'stark', u'starred', u'starring', u'start', u'started', u'starting', u'state', u'stated', u'statement', u'station', u'statue', u'status', u'stay', u'stayed', u'staying', u'steady', u'steal', u'stealing', u'steel', u'stellar', u'step', u'stephen', u'stereotype', u'stereotypical', u'steve', u'steven', u'stevens', u'stewart', u'stick', u'stiff', u'still', u'stiller', u'stilted', u'stink', u'stinker', u'stock', u'stole', u'stolen', u'stomach', u'stone', u'stood', u'stooge', u'stop', u'stopped', u'stopping', u'store', u'storm', u'story', u'storyline', u'storytelling', u'straight', u'straightforward', u'strange', u'strangely', u'stranger', u'streep', u'street', u'streisand', u'strength', u'stress', u'stretch', u'stretched', u'strictly', u'strike', u'striking', u'string', u'strip', u'stroke', u'strong', u'stronger', u'strongly', u'struck', u'structure', u'struggle', u'struggling', u'stuart', u'stuck', u'student', u'studio', u'study', u'stuff', u'stumble', u'stumbled', u'stunned', u'stunning', u'stunt', u'stupid', u'stupidity', u'style', u'stylish', u'sub', u'subject', u'subjected', u'subplot', u'subplots', u'subsequent', u'substance', u'subtitle', u'subtle', u'subtlety', u'succeed', u'succeeded', u'succeeds', u'success', u'successful', u'successfully', u'suck', u'sucked', u'sudden', u'suddenly', u'sue', u'suffer', u'suffered', u'suffering', u'suffers', u'suffice', u'sugar', u'suggest', u'suggested', u'suggestion', u'suggests', u'suicide', u'suit', u'suitable', u'suited', u'sullivan', u'sum', u'summary', u'summer', u'sun', u'sunday', u'sung', u'sunny', u'sunshine', u'super', u'superb', u'superbly', u'superficial', u'superhero', u'superior', u'superman', u'supernatural', u'supply', u'support', u'supported', u'supporting', u'suppose', u'supposed', u'supposedly', u'sure', u'surely', u'surface', u'surfing', u'surprise', u'surprised', u'surprising', u'surprisingly', u'surreal', u'surround', u'surrounded', u'surrounding', u'survival', u'survive', u'survived', u'surviving', u'survivor', u'susan', u'suspect', u'suspend', u'suspense', u'suspenseful', u'suspension', u'suspicion', u'suspicious', u'sutherland', u'swear', u'swedish', u'sweet', u'swim', u'swimming', u'swing', u'switch', u'sword', u'symbol', u'symbolism', u'sympathetic', u'sympathize', u'sympathy', u'synopsis', u'system', u'table', u'taboo', u'tacky', u'tad', u'tag', u'tail', u'take', u'taken', u'taking', u'tale', u'talent', u'talented', u'talk', u'talked', u'talking', u'tall', u'tame', u'tank', u'tap', u'tape', u'tarantino', u'target', u'tarzan', u'task', u'taste', u'tasteless', u'taught', u'tax', u'taxi', u'taylor', u'te', u'tea', u'teach', u'teacher', u'teaching', u'team', u'tear', u'tech', u'technical', u'technically', u'technicolor', u'technique', u'technology', u'ted', u'tedious', u'teen', u'teenage', u'teenager', u'teeth', u'television', u'tell', u'telling', u'temple', u'ten', u'tenant', u'tend', u'tendency', u'tender', u'tends', u'tense', u'tension', u'term', u'terrible', u'terribly', u'terrific', u'terrifying', u'territory', u'terror', u'terrorist', u'terry', u'test', u'testament', u'texas', u'text', u'th', u'thank', u'thankfully', u'thanks', u'thats', u'theater', u'theatre', u'theatrical', u'theme', u'theory', u'therefore', u'thick', u'thief', u'thin', u'thing', u'think', u'thinking', u'third', u'thirty', u'thomas', u'thompson', u'thoroughly', u'though', u'thought', u'thoughtful', u'thousand', u'thread', u'threat', u'threatening', u'three', u'threw', u'thrill', u'thriller', u'thrilling', u'throat', u'throughout', u'throw', u'throwing', u'thrown', u'thru', u'thug', u'thumb', u'thunderbird', u'thus', u'ticket', u'tie', u'tied', u'tierney', u'tiger', u'tight', u'till', u'tim', u'time', u'timeless', u'timing', u'timon', u'timothy', u'tiny', u'tip', u'tired', u'tiresome', u'titanic', u'title', u'titled', u'today', u'todd', u'together', u'toilet', u'told', u'tom', u'tomato', u'tommy', u'tomorrow', u'ton', u'tone', u'tongue', u'tonight', u'tony', u'took', u'tool', u'tooth', u'top', u'topic', u'topless', u'torn', u'torture', u'tortured', u'total', u'totally', u'touch', u'touched', u'touching', u'tough', u'tour', u'tourist', u'toward', u'towards', u'tower', u'town', u'toy', u'trace', u'track', u'tracking', u'tracy', u'trade', u'trademark', u'tradition', u'traditional', u'tragedy', u'tragic', u'trail', u'trailer', u'train', u'trained', u'training', u'trait', u'transfer', u'transformation', u'transition', u'translated', u'translation', u'trap', u'trapped', u'trash', u'trashy', u'travel', u'traveling', u'travesty', u'treasure', u'treat', u'treated', u'treatment', u'tree', u'trek', u'tremendous', u'trend', u'trial', u'tribe', u'tribute', u'trick', u'tried', u'trilogy', u'trio', u'trip', u'tripe', u'trite', u'triumph', u'troop', u'trouble', u'troubled', u'truck', u'true', u'truly', u'trust', u'truth', u'try', u'trying', u'tube', u'tune', u'tunnel', u'turkey', u'turn', u'turned', u'turner', u'turning', u'tv', u'twelve', u'twenty', u'twice', u'twilight', u'twin', u'twist', u'twisted', u'two', u'tyler', u'type', u'typical', u'typically', u'ugly', u'uk', u'ultimate', u'ultimately', u'ultra', u'un', u'unable', u'unaware', u'unbearable', u'unbelievable', u'unbelievably', u'uncle', u'uncomfortable', u'unconvincing', u'uncut', u'underground', u'underlying', u'underneath', u'underrated', u'understand', u'understandable', u'understanding', u'understated', u'understood', u'underworld', u'undoubtedly', u'uneven', u'unexpected', u'unexpectedly', u'unfair', u'unfold', u'unfolds', u'unforgettable', u'unfortunate', u'unfortunately', u'unfunny', u'unhappy', u'uniform', u'uninspired', u'unintentional', u'unintentionally', u'uninteresting', u'union', u'unique', u'unit', u'united', u'universal', u'universe', u'university', u'unknown', u'unless', u'unlikable', u'unlike', u'unlikely', u'unnecessary', u'unoriginal', u'unpleasant', u'unpredictable', u'unreal', u'unrealistic', u'unseen', u'unsettling', u'unusual', u'unwatchable', u'uplifting', u'upon', u'upper', u'ups', u'upset', u'urban', u'urge', u'us', u'usa', u'use', u'used', u'useful', u'useless', u'user', u'using', u'ustinov', u'usual', u'usually', u'utter', u'utterly', u'uwe', u'vacation', u'vader', u'vague', u'vaguely', u'valentine', u'valley', u'valuable', u'value', u'vampire', u'van', u'vance', u'variation', u'variety', u'various', u'vast', u'vega', u'vehicle', u'vein', u'vengeance', u'venture', u'verhoeven', u'version', u'versus', u'vet', u'veteran', u'vhs', u'via', u'vice', u'vicious', u'victim', u'victor', u'victoria', u'victory', u'video', u'vietnam', u'view', u'viewed', u'viewer', u'viewing', u'viewpoint', u'village', u'villain', u'vincent', u'violence', u'violent', u'virgin', u'virginia', u'virtually', u'virtue', u'virus', u'visible', u'vision', u'visit', u'visited', u'visiting', u'visitor', u'visual', u'visually', u'visuals', u'vivid', u'vocal', u'voice', u'voiced', u'voight', u'volume', u'von', u'vote', u'vulgar', u'vulnerable', u'wacky', u'wagner', u'wait', u'waited', u'waiting', u'waitress', u'wake', u'walk', u'walked', u'walken', u'walker', u'walking', u'wall', u'wallace', u'walsh', u'walter', u'wandering', u'wang', u'wanna', u'wannabe', u'want', u'wanted', u'wanting', u'war', u'ward', u'warm', u'warming', u'warmth', u'warn', u'warned', u'warner', u'warning', u'warren', u'warrior', u'washington', u'waste', u'wasted', u'wasting', u'watch', u'watchable', u'watched', u'watcher', u'watching', u'water', u'watson', u'wave', u'wax', u'way', u'wayne', u'weak', u'weakest', u'weakness', u'wealth', u'wealthy', u'weapon', u'wear', u'wearing', u'web', u'website', u'wedding', u'week', u'weekend', u'weight', u'weird', u'welcome', u'well', u'welles', u'wendy', u'went', u'werewolf', u'wes', u'west', u'western', u'wet', u'whale', u'whatever', u'whats', u'whatsoever', u'wheel', u'whenever', u'whereas', u'whether', u'whilst', u'white', u'whoever', u'whole', u'wholly', u'whoopi', u'whose', u'wicked', u'wide', u'widely', u'widmark', u'widow', u'wife', u'wig', u'wild', u'wilder', u'wilderness', u'wildly', u'william', u'williams', u'willie', u'willing', u'willis', u'wilson', u'win', u'wind', u'window', u'wing', u'winner', u'winning', u'winter', u'wire', u'wisdom', u'wise', u'wish', u'wished', u'wishing', u'wit', u'witch', u'within', u'without', u'witness', u'witnessed', u'witty', u'wizard', u'wolf', u'woman', u'wonder', u'wondered', u'wonderful', u'wonderfully', u'wondering', u'wont', u'woo', u'wood', u'wooden', u'woody', u'word', u'wore', u'work', u'worked', u'worker', u'working', u'world', u'worm', u'worn', u'worried', u'worry', u'worse', u'worst', u'worth', u'worthless', u'worthwhile', u'worthy', u'would', u'wound', u'wounded', u'wow', u'wrap', u'wrapped', u'wreck', u'wrestling', u'wretched', u'write', u'writer', u'writes', u'writing', u'written', u'wrong', u'wrote', u'ww', u'wwe', u'wwii', u'ya', u'yard', u'yawn', u'yeah', u'year', u'yell', u'yelling', u'yellow', u'yes', u'yesterday', u'yet', u'yeti', u'york', u'young', u'younger', u'youngest', u'youth', u'zero', u'zizek', u'zombie', u'zone']\n"
     ]
    }
   ],
   "source": [
    "# Words in our vocabulary\n",
    "vocab = vectorizer.get_feature_names()\n",
    "print vocab"
   ]
  },
  {
   "cell_type": "code",
   "execution_count": 52,
   "metadata": {
    "collapsed": false
   },
   "outputs": [],
   "source": [
    "# Random Forrest\n",
    "from sklearn.ensemble import RandomForestClassifier\n",
    "forest = RandomForestClassifier(n_estimators = 100)\n",
    "forest = forest.fit(train_data_features, train['sentiment'])"
   ]
  },
  {
   "cell_type": "code",
   "execution_count": 53,
   "metadata": {
    "collapsed": false
   },
   "outputs": [
    {
     "name": "stdout",
     "output_type": "stream",
     "text": [
      "500\n",
      "1000\n",
      "1500\n",
      "2000\n",
      "2500\n",
      "3000\n",
      "3500\n",
      "4000\n",
      "4500\n",
      "5000\n",
      "5500\n",
      "6000\n",
      "6500\n",
      "7000\n",
      "7500\n",
      "8000\n",
      "8500\n",
      "9000\n",
      "9500\n",
      "10000\n",
      "10500\n",
      "11000\n",
      "11500\n",
      "12000\n",
      "12500\n",
      "13000\n",
      "13500\n",
      "14000\n",
      "14500\n",
      "15000\n",
      "15500\n",
      "16000\n",
      "16500\n",
      "17000\n",
      "17500\n",
      "18000\n",
      "18500\n",
      "19000\n",
      "19500\n",
      "20000\n",
      "20500\n",
      "21000\n",
      "21500\n",
      "22000\n",
      "22500\n",
      "23000\n",
      "23500\n",
      "24000\n",
      "24500\n",
      "25000\n"
     ]
    },
    {
     "ename": "IOError",
     "evalue": "[Errno 2] No such file or directory: 'result/bag_of_words_rf.csv'",
     "output_type": "error",
     "traceback": [
      "\u001b[0;31m---------------------------------------------------------------------------\u001b[0m",
      "\u001b[0;31mIOError\u001b[0m                                   Traceback (most recent call last)",
      "\u001b[0;32m<ipython-input-53-6d8d5076ce5d>\u001b[0m in \u001b[0;36m<module>\u001b[0;34m()\u001b[0m\n\u001b[1;32m     15\u001b[0m \u001b[0mresult\u001b[0m \u001b[0;34m=\u001b[0m \u001b[0mforest\u001b[0m\u001b[0;34m.\u001b[0m\u001b[0mpredict\u001b[0m\u001b[0;34m(\u001b[0m\u001b[0mtest_data_features\u001b[0m\u001b[0;34m)\u001b[0m\u001b[0;34m\u001b[0m\u001b[0m\n\u001b[1;32m     16\u001b[0m \u001b[0moutput\u001b[0m \u001b[0;34m=\u001b[0m \u001b[0mpd\u001b[0m\u001b[0;34m.\u001b[0m\u001b[0mDataFrame\u001b[0m\u001b[0;34m(\u001b[0m\u001b[0mdata\u001b[0m\u001b[0;34m=\u001b[0m\u001b[0;34m{\u001b[0m\u001b[0;34m\"id\"\u001b[0m\u001b[0;34m:\u001b[0m\u001b[0mtest\u001b[0m\u001b[0;34m[\u001b[0m\u001b[0;34m\"id\"\u001b[0m\u001b[0;34m]\u001b[0m\u001b[0;34m,\u001b[0m \u001b[0;34m\"sentiment\"\u001b[0m\u001b[0;34m:\u001b[0m\u001b[0mresult\u001b[0m\u001b[0;34m}\u001b[0m\u001b[0;34m)\u001b[0m\u001b[0;34m\u001b[0m\u001b[0m\n\u001b[0;32m---> 17\u001b[0;31m \u001b[0moutput\u001b[0m\u001b[0;34m.\u001b[0m\u001b[0mto_csv\u001b[0m\u001b[0;34m(\u001b[0m\u001b[0;34m\"result/bag_of_words_rf.csv\"\u001b[0m\u001b[0;34m,\u001b[0m \u001b[0mindex\u001b[0m\u001b[0;34m=\u001b[0m\u001b[0mFalse\u001b[0m\u001b[0;34m,\u001b[0m \u001b[0mquoting\u001b[0m\u001b[0;34m=\u001b[0m\u001b[0;36m3\u001b[0m\u001b[0;34m)\u001b[0m\u001b[0;34m\u001b[0m\u001b[0m\n\u001b[0m",
      "\u001b[0;32m/home/aman/anaconda3/envs/py27/lib/python2.7/site-packages/pandas/core/frame.pyc\u001b[0m in \u001b[0;36mto_csv\u001b[0;34m(self, path_or_buf, sep, na_rep, float_format, columns, header, index, index_label, mode, encoding, compression, quoting, quotechar, line_terminator, chunksize, tupleize_cols, date_format, doublequote, escapechar, decimal)\u001b[0m\n\u001b[1;32m   1381\u001b[0m                                      \u001b[0mdoublequote\u001b[0m\u001b[0;34m=\u001b[0m\u001b[0mdoublequote\u001b[0m\u001b[0;34m,\u001b[0m\u001b[0;34m\u001b[0m\u001b[0m\n\u001b[1;32m   1382\u001b[0m                                      escapechar=escapechar, decimal=decimal)\n\u001b[0;32m-> 1383\u001b[0;31m         \u001b[0mformatter\u001b[0m\u001b[0;34m.\u001b[0m\u001b[0msave\u001b[0m\u001b[0;34m(\u001b[0m\u001b[0;34m)\u001b[0m\u001b[0;34m\u001b[0m\u001b[0m\n\u001b[0m\u001b[1;32m   1384\u001b[0m \u001b[0;34m\u001b[0m\u001b[0m\n\u001b[1;32m   1385\u001b[0m         \u001b[0;32mif\u001b[0m \u001b[0mpath_or_buf\u001b[0m \u001b[0;32mis\u001b[0m \u001b[0mNone\u001b[0m\u001b[0;34m:\u001b[0m\u001b[0;34m\u001b[0m\u001b[0m\n",
      "\u001b[0;32m/home/aman/anaconda3/envs/py27/lib/python2.7/site-packages/pandas/formats/format.pyc\u001b[0m in \u001b[0;36msave\u001b[0;34m(self)\u001b[0m\n\u001b[1;32m   1458\u001b[0m             f = _get_handle(self.path_or_buf, self.mode,\n\u001b[1;32m   1459\u001b[0m                             \u001b[0mencoding\u001b[0m\u001b[0;34m=\u001b[0m\u001b[0mself\u001b[0m\u001b[0;34m.\u001b[0m\u001b[0mencoding\u001b[0m\u001b[0;34m,\u001b[0m\u001b[0;34m\u001b[0m\u001b[0m\n\u001b[0;32m-> 1460\u001b[0;31m                             compression=self.compression)\n\u001b[0m\u001b[1;32m   1461\u001b[0m             \u001b[0mclose\u001b[0m \u001b[0;34m=\u001b[0m \u001b[0mTrue\u001b[0m\u001b[0;34m\u001b[0m\u001b[0m\n\u001b[1;32m   1462\u001b[0m \u001b[0;34m\u001b[0m\u001b[0m\n",
      "\u001b[0;32m/home/aman/anaconda3/envs/py27/lib/python2.7/site-packages/pandas/io/common.pyc\u001b[0m in \u001b[0;36m_get_handle\u001b[0;34m(path, mode, encoding, compression, memory_map)\u001b[0m\n\u001b[1;32m    332\u001b[0m                 \u001b[0mf\u001b[0m \u001b[0;34m=\u001b[0m \u001b[0mopen\u001b[0m\u001b[0;34m(\u001b[0m\u001b[0mpath\u001b[0m\u001b[0;34m,\u001b[0m \u001b[0mmode\u001b[0m\u001b[0;34m,\u001b[0m \u001b[0merrors\u001b[0m\u001b[0;34m=\u001b[0m\u001b[0;34m'replace'\u001b[0m\u001b[0;34m)\u001b[0m\u001b[0;34m\u001b[0m\u001b[0m\n\u001b[1;32m    333\u001b[0m         \u001b[0;32melse\u001b[0m\u001b[0;34m:\u001b[0m\u001b[0;34m\u001b[0m\u001b[0m\n\u001b[0;32m--> 334\u001b[0;31m             \u001b[0mf\u001b[0m \u001b[0;34m=\u001b[0m \u001b[0mopen\u001b[0m\u001b[0;34m(\u001b[0m\u001b[0mpath\u001b[0m\u001b[0;34m,\u001b[0m \u001b[0mmode\u001b[0m\u001b[0;34m)\u001b[0m\u001b[0;34m\u001b[0m\u001b[0m\n\u001b[0m\u001b[1;32m    335\u001b[0m \u001b[0;34m\u001b[0m\u001b[0m\n\u001b[1;32m    336\u001b[0m     \u001b[0;32mif\u001b[0m \u001b[0mmemory_map\u001b[0m \u001b[0;32mand\u001b[0m \u001b[0mhasattr\u001b[0m\u001b[0;34m(\u001b[0m\u001b[0mf\u001b[0m\u001b[0;34m,\u001b[0m \u001b[0;34m'fileno'\u001b[0m\u001b[0;34m)\u001b[0m\u001b[0;34m:\u001b[0m\u001b[0;34m\u001b[0m\u001b[0m\n",
      "\u001b[0;31mIOError\u001b[0m: [Errno 2] No such file or directory: 'result/bag_of_words_rf.csv'"
     ]
    }
   ],
   "source": [
    "# Creating Submission\n",
    "test = pd.read_csv(\"data/testData.tsv\", header=0, delimiter='\\t', quoting=3)\n",
    "num_test_reviews = len(test[\"review\"])\n",
    "clean_test_reviews = []\n",
    "\n",
    "for i in xrange(0, num_test_reviews):\n",
    "    if ((i+1) % 500 == 0):\n",
    "        print i+1\n",
    "    test_review = clean_review(test['review'][i])\n",
    "    clean_test_reviews.append(test_review)\n",
    "    \n",
    "test_data_features = vectorizer.transform(clean_test_reviews)\n",
    "test_data_features = test_data_features.toarray()\n",
    "\n",
    "result = forest.predict(test_data_features)\n",
    "output = pd.DataFrame(data={\"id\":test[\"id\"], \"sentiment\":result})"
   ]
  },
  {
   "cell_type": "code",
   "execution_count": 55,
   "metadata": {
    "collapsed": false
   },
   "outputs": [],
   "source": [
    "output.to_csv(\"bag_of_words_rf.csv\", index=False, quoting=3)"
   ]
  },
  {
   "cell_type": "code",
   "execution_count": null,
   "metadata": {
    "collapsed": true
   },
   "outputs": [],
   "source": []
  }
 ],
 "metadata": {
  "kernelspec": {
   "display_name": "Python 2",
   "language": "python",
   "name": "python2"
  },
  "language_info": {
   "codemirror_mode": {
    "name": "ipython",
    "version": 2
   },
   "file_extension": ".py",
   "mimetype": "text/x-python",
   "name": "python",
   "nbconvert_exporter": "python",
   "pygments_lexer": "ipython2",
   "version": "2.7.13"
  }
 },
 "nbformat": 4,
 "nbformat_minor": 2
}
